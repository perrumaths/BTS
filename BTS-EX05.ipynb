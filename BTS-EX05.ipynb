{
 "cells": [
  {
   "cell_type": "markdown",
   "metadata": {},
   "source": [
    "# BTS CRSA - Feuille d'exercice n°5 : Utilisation d'une boucle while"
   ]
  },
  {
   "cell_type": "markdown",
   "metadata": {},
   "source": [
    "## Utilisation de l'interface\n",
    "Le texte qui suit est divisé en cellule. Certaines cellules contiennent du code Python. Ce code Python peut être modifié et exécuté.\n",
    "\n",
    "Pour modifier le code d'une cellule, il suffit de cliquer dans la cellule.\n",
    "\n",
    "**Pour exécuter le code d'une cellule, cliquer dans la cellule puis $\\boxed{Ctrl}$ + $\\boxed{Entr\\acute{e}e}$** (ou l'icone Exécuter)."
   ]
  },
  {
   "cell_type": "markdown",
   "metadata": {},
   "source": [
    "## Exercice 1 :\n",
    "Exécuter le programme suivant, qui détermine combien d'étapes il faut pour qu'une quantité $Q$ initialement égale à 1000 descende en dessous de 500, si elle est multipliée à chaque étape par 0,9."
   ]
  },
  {
   "cell_type": "code",
   "execution_count": null,
   "metadata": {},
   "outputs": [],
   "source": [
    "Q = 1000\n",
    "n = 0\n",
    "while Q > 500:\n",
    "    Q = Q * 0.9\n",
    "    n = n + 1\n",
    "print(n)"
   ]
  },
  {
   "cell_type": "markdown",
   "metadata": {},
   "source": [
    "1. Modifier le programme précédent pour qu'il détermine le nombre d'étapes nécessaire pour que $Q$ devienne inférieur à 200.\n",
    "\n",
    "2. Modifier le programme précédent pour qu'il détermine le nombre d'étapes nécessaire pour que $Q$ devienne inférieur à 100, en partant d'une valeur initiale égale à 5000.\n",
    "\n",
    "3. Modifier le programme précédent pour qu'il détermine le nombre d'étapes nécessaire pour que $Q$ devienne inférieur à 1, en partant d'une valeur initiale égale à 10000, et en multipliant par 0,95 à chaque étape."
   ]
  },
  {
   "cell_type": "markdown",
   "metadata": {},
   "source": [
    "## Exercice 2 : définition d'une fonction\n",
    "Executer le code suivant, qui définit la fonction $f$ de la partie B :\n",
    "$$f(t)=-10\\mathrm{e}^{-0,3t}+12$$"
   ]
  },
  {
   "cell_type": "code",
   "execution_count": null,
   "metadata": {},
   "outputs": [],
   "source": [
    "from math import exp\n",
    "\n",
    "def f(t):\n",
    "    ft = -10*exp(-0.3*t)+12\n",
    "    return ft"
   ]
  },
  {
   "cell_type": "markdown",
   "metadata": {},
   "source": [
    "Dans la cellule suivant, déterminer la valeur de $f(14)$, $f(15)$ et $f(16)$."
   ]
  },
  {
   "cell_type": "code",
   "execution_count": null,
   "metadata": {},
   "outputs": [],
   "source": [
    "f(13)"
   ]
  },
  {
   "cell_type": "markdown",
   "metadata": {},
   "source": [
    "## Exercice 2 :\n",
    "Compléter le programme suivant correspondant à l'algorithme de la question C.1 de la feuille d'exercice n°4, puis executer le programme."
   ]
  },
  {
   "cell_type": "code",
   "execution_count": null,
   "metadata": {},
   "outputs": [],
   "source": [
    "t =                # à compléter\n",
    "while ? :          # remplacer le point d'interrogation\n",
    "    t =            # à compléter\n",
    "print(t)\n",
    "    "
   ]
  },
  {
   "cell_type": "markdown",
   "metadata": {},
   "source": [
    "Modifier le programme pour qu'il permette d'obtenir une valeur approchée de $t_0$ arrondie au dixième."
   ]
  }
 ],
 "metadata": {
  "kernelspec": {
   "display_name": "Python 3",
   "language": "python",
   "name": "python3"
  },
  "language_info": {
   "codemirror_mode": {
    "name": "ipython",
    "version": 3
   },
   "file_extension": ".py",
   "mimetype": "text/x-python",
   "name": "python",
   "nbconvert_exporter": "python",
   "pygments_lexer": "ipython3",
   "version": "3.7.1"
  }
 },
 "nbformat": 4,
 "nbformat_minor": 2
}
