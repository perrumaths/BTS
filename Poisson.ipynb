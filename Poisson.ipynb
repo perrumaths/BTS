{
 "cells": [
  {
   "cell_type": "markdown",
   "metadata": {},
   "source": [
    "# 1 Simulation d'une loi exponentielle"
   ]
  },
  {
   "cell_type": "markdown",
   "metadata": {},
   "source": [
    "La fonction `AleaExp` suvante de paramètre `L` retourne une variable aléatoire suivant la loi exponentielle de paramètre $\\lambda=$`L`."
   ]
  },
  {
   "cell_type": "code",
   "execution_count": null,
   "metadata": {},
   "outputs": [],
   "source": [
    "from random import random\n",
    "from math import log\n",
    "\n",
    "def AleaExp(L):\n",
    "    return (-log(random())/L)"
   ]
  },
  {
   "cell_type": "markdown",
   "metadata": {},
   "source": [
    "Soit $X$ une variable aléatorie qui suit une **loi exponentielle de paramètre $5$**. La variable aléatoire $X$ modélise le temps d'attente (en heure) entre deux bus à un arrêt.\n",
    "\n",
    "La fonction `ListAleaExp` suivante de paramètre $n$ affiche $n$ valeurs de la variable aléatoire $X$."
   ]
  },
  {
   "cell_type": "code",
   "execution_count": null,
   "metadata": {},
   "outputs": [],
   "source": [
    "def ListeAleaExp(n):\n",
    "    for i in range (n):\n",
    "        X = AleaExp(5)\n",
    "        print(X,sep=' ')\n",
    "\n",
    "ListeAleaExp(20)"
   ]
  },
  {
   "cell_type": "markdown",
   "metadata": {},
   "source": [
    "**Question 1** Tester la fonction avec différents paramètres $n$. Arrive-t-il que le temps d'attente soit supérieur à une heure ?\n",
    "\n",
    "**Question 2** En utilisant la même structure, créer ci-dessous une fonction `MoyenneAleaExp(n)` qui retourne la moyenne de $n$ valeurs de la variable aléatoire $X$ (sans afficher toutes les valeurs).\n",
    "\n",
    "De quelle valeur semble s'approcher cette moyenne ?"
   ]
  },
  {
   "cell_type": "code",
   "execution_count": null,
   "metadata": {},
   "outputs": [],
   "source": [
    "def MoyenneAleaExp(n):\n",
    "    \n",
    "\n",
    "    \n",
    "    \n",
    "MoyenneAleaExp(20)"
   ]
  },
  {
   "cell_type": "markdown",
   "metadata": {},
   "source": [
    "**Question 3** En utilisant la même structure, créer ci-dessous une fonction `Taux(n)` qui retourne le pourcentage de **valeurs inférieures ou égales à 0.1** parmi $n$ valeurs de la variable aléatoire $X$.\n",
    "\n",
    "Le pourcentage obtenu pour de grandes valeurs de $n$ correspond-il à la valeur $p(X\\leq 0,\\!1)$ obtenue par calcul ?"
   ]
  },
  {
   "cell_type": "code",
   "execution_count": null,
   "metadata": {},
   "outputs": [],
   "source": [
    "def Taux(n):\n",
    "    \n",
    "    \n",
    "Taux(20)"
   ]
  },
  {
   "cell_type": "markdown",
   "metadata": {},
   "source": [
    "**Question 4** En utilisant la même structure, créer ci-dessous une fonction `TauxVieux(n)` qui retourne le pourcentage de **valeurs inférieures ou égales à 0.6 parmi les valeurs supérieur à 0.5** de la variable aléatoire $X$.\n",
    "\n",
    "Que constate-t-on ?"
   ]
  },
  {
   "cell_type": "code",
   "execution_count": null,
   "metadata": {},
   "outputs": [],
   "source": [
    "def TauxVieux(n):\n",
    "    \n",
    "TauxVieux(20)"
   ]
  },
  {
   "cell_type": "markdown",
   "metadata": {},
   "source": [
    "# 2. Simulation d'une loi de Poisson\n",
    "\n",
    "La fonction suivante donne les horaires de passage d'un passage d'un bus à l'arrêt après le passage d'un premier bus à l'heure 0."
   ]
  },
  {
   "cell_type": "code",
   "execution_count": null,
   "metadata": {},
   "outputs": [],
   "source": [
    "def Horaires(n):\n",
    "    H = 0\n",
    "    while H <= 5:\n",
    "        X = AleaExp(5)\n",
    "        H = H + X\n",
    "        print(H,sep=' ')\n",
    "\n",
    "Horaires(20)"
   ]
  },
  {
   "cell_type": "markdown",
   "metadata": {},
   "source": [
    "**Question 5** En utilisant la même structure, créer ci-dessous une fonction `AleaPoisson()` qui retourne le nombre de bus qui passe entre l'heure 4 et l'heure 5.\n"
   ]
  },
  {
   "cell_type": "code",
   "execution_count": null,
   "metadata": {},
   "outputs": [],
   "source": [
    "def AleaPoisson():\n",
    "\n",
    "\n",
    "AleaPoisson()"
   ]
  },
  {
   "cell_type": "markdown",
   "metadata": {},
   "source": [
    "**Question 6** Écrire une fonction `MoyennePoisson(n)` qui retourne le nombre moyen de bus qui passe entre l'heure 4 et l'heure 5, parmi $n$ essais."
   ]
  },
  {
   "cell_type": "code",
   "execution_count": null,
   "metadata": {},
   "outputs": [],
   "source": []
  }
 ],
 "metadata": {
  "kernelspec": {
   "display_name": "Python 3",
   "language": "python",
   "name": "python3"
  },
  "language_info": {
   "codemirror_mode": {
    "name": "ipython",
    "version": 3
   },
   "file_extension": ".py",
   "mimetype": "text/x-python",
   "name": "python",
   "nbconvert_exporter": "python",
   "pygments_lexer": "ipython3",
   "version": "3.7.1"
  }
 },
 "nbformat": 4,
 "nbformat_minor": 2
}
